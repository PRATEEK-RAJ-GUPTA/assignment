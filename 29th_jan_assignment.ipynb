{
 "cells": [
  {
   "cell_type": "raw",
   "id": "37f889d9-fc4a-401d-91c2-f6045466004b",
   "metadata": {},
   "source": [
    "1.WHO DEVELOPED PYTHON PROGRAMMING LANGUAGE?\n",
    "ANS->Python was developed by Guido van Rossum.When he started implementing python he was reading script from “Monty Python's Flying Circus”, a BBC comedy series from the 1970s. Van Rossum thought he needed a name that was short, unique, and slightly mysterious, so he decided to call the language Python."
   ]
  },
  {
   "cell_type": "raw",
   "id": "e9e61da6-b2c8-43f5-9e65-1664a2c1a68a",
   "metadata": {},
   "source": [
    "2.Which type of programming does python support?\n",
    "ANS->Python support object oriented programming,multi-paradigmns,garbage-collected,dynamically typed ,structured programming and functions."
   ]
  },
  {
   "cell_type": "raw",
   "id": "e120244f-68f8-4f26-85fc-db1fd1ebd6f2",
   "metadata": {},
   "source": [
    "3.Is Python Case sensititve when dealing with identifiers?\n",
    "ANS->Yes python is case sensitive when dealing with identifier"
   ]
  },
  {
   "cell_type": "raw",
   "id": "6c1d82b7-023d-4d6a-988e-b992fee21a3c",
   "metadata": {},
   "source": [
    "4.What is the correct extension of the python file?\n",
    "ANS->The extension of the python file is .py or .pyi"
   ]
  },
  {
   "cell_type": "raw",
   "id": "25f661df-ced5-4729-984b-1c89a8a35d2d",
   "metadata": {},
   "source": [
    "5.Is python complied or interpreted language?\n",
    "ANS->Python is interpredted language,the python source code is converted into python bytecode and run into python virtual machine"
   ]
  },
  {
   "cell_type": "raw",
   "id": "685e82b2-6d60-4679-beeb-135b79be5686",
   "metadata": {},
   "source": [
    "6.Name a few block of code used to define in python language?\n",
    "ANS->A block is is piece of python program text executed as a unit.Some example of gthe python block code are:\n",
    "a.function\n",
    "b.module\n",
    "c.class"
   ]
  },
  {
   "cell_type": "raw",
   "id": "c3576eb1-16cd-439e-aa9e-6cb4abc0f70b",
   "metadata": {},
   "source": [
    "7.State the character used to give single line comment in python?\n",
    "ANS->The character used to give single line commnet in python is \"double forward slash\""
   ]
  },
  {
   "cell_type": "raw",
   "id": "9e2d0f37-403a-4453-8116-96a255972914",
   "metadata": {},
   "source": [
    "8.Mention function which can help us to find the version of python that we are currently working on?\n",
    "ANS->sys.function"
   ]
  },
  {
   "cell_type": "raw",
   "id": "e9f69071-453f-4a68-a5d2-b598ca27891a",
   "metadata": {},
   "source": [
    "9.Python supports the creation of anonymous function at runtime,using a construct called __________\n",
    "ANS->lambda"
   ]
  },
  {
   "cell_type": "raw",
   "id": "831a6e0d-ebe9-41a6-8122-530d0ae9985d",
   "metadata": {},
   "source": [
    "10.What does pip stand for python?\n",
    "ANS->Developed in 2008, pip stands for “pip Install Packages” is used today as  the standard tool for installing Python packages and their dependencies in a secure manner."
   ]
  },
  {
   "cell_type": "raw",
   "id": "9ed5fb1d-adee-40c1-b558-97f317681b4c",
   "metadata": {},
   "source": [
    "11.Mention a inbuilt function in python?\n",
    "ANS->sort"
   ]
  },
  {
   "cell_type": "raw",
   "id": "f064cfce-b7d2-41f2-82d9-c46bfe8f8e25",
   "metadata": {},
   "source": [
    "12.What is the maximum possible length of identifier in python?\n",
    "->79"
   ]
  },
  {
   "cell_type": "raw",
   "id": "3106fbf8-cc3f-4291-b46f-07d1ae3242f7",
   "metadata": {},
   "source": [
    "13.What are benefitss of using python?\n",
    "ANS->The benefits of using python are as follows:\n",
    "    1.Large developer community\n",
    "    2.extensive libraries\n",
    "    3.write less do more\n",
    "    4.portability\n",
    "    5.Wide range of use cases"
   ]
  },
  {
   "cell_type": "raw",
   "id": "f668e873-aff0-4030-8ef7-3997f9c9ea30",
   "metadata": {},
   "source": [
    "14.How is memeory manged in python?\n",
    "ANS->Memory management in Python involves a private heap containing all Python objects and data structures. The management of this private heap is ensured internally by the Python memory manager. The Python memory manager has different components which deal with various dynamic storage management aspects, like sharing, segmentation, preallocation or caching."
   ]
  },
  {
   "cell_type": "raw",
   "id": "32720eeb-14b2-4f38-81fb-022acc5c06f5",
   "metadata": {},
   "source": [
    "15.How to install python ion windows and set path variable?\n",
    "ANS->The complete path of python.exe can be added by:\n",
    "\n",
    "Right-clicking This PC and going to Properties.\n",
    "\n",
    "Clicking on the Advanced system settings in the menu on the left.\n",
    "\n",
    "Clicking on the Environment Variables button on the bottom right.\n",
    "\n",
    "In the System variables section, selecting the Path variable and clicking on Edit. The next screen will show all the directories that are currently a part of the PATH variable.\n",
    "\n",
    "Clicking on New and entering Python’s install directory."
   ]
  },
  {
   "cell_type": "raw",
   "id": "2f7c61c4-7466-4ef1-ae44-516e8236f4af",
   "metadata": {},
   "source": [
    "16.Is indentation required in python?\n",
    "ANS->YES"
   ]
  }
 ],
 "metadata": {
  "kernelspec": {
   "display_name": "Python 3 (ipykernel)",
   "language": "python",
   "name": "python3"
  },
  "language_info": {
   "codemirror_mode": {
    "name": "ipython",
    "version": 3
   },
   "file_extension": ".py",
   "mimetype": "text/x-python",
   "name": "python",
   "nbconvert_exporter": "python",
   "pygments_lexer": "ipython3",
   "version": "3.10.6"
  }
 },
 "nbformat": 4,
 "nbformat_minor": 5
}
